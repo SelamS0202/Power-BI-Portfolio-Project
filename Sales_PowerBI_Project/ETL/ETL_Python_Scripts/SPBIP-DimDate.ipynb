{
 "cells": [
  {
   "cell_type": "code",
   "execution_count": 1,
   "id": "ddb2c12c-2f5d-4316-98ff-693673e983eb",
   "metadata": {},
   "outputs": [],
   "source": [
    "import pandas as pd \n",
    "#import re\n",
    "from sqlalchemy import create_engine\n",
    "##import pyodbc"
   ]
  },
  {
   "cell_type": "markdown",
   "id": "ad2f6085-7468-4fea-97b6-d2c7866bd9d1",
   "metadata": {},
   "source": [
    "#### Read sales date data from stg_date"
   ]
  },
  {
   "cell_type": "markdown",
   "id": "6cc34b4d-11e5-4841-9240-62b880eefc74",
   "metadata": {},
   "source": [
    "#### Create a connection to SQL Srever "
   ]
  },
  {
   "cell_type": "code",
   "execution_count": 2,
   "id": "0e638138-dca4-482b-910e-c4e822b9030b",
   "metadata": {},
   "outputs": [
    {
     "data": {
      "text/plain": [
       "Engine(mssql+pyodbc://@DB_SERVER/DB_NAME?driver=ODBC+Driver+17+for+SQL+Server&trusted_connection=yes)"
      ]
     },
     "execution_count": 2,
     "metadata": {},
     "output_type": "execute_result"
    }
   ],
   "source": [
    "server = 'DB_SERVER'\n",
    "database = 'DB_NAME'\n",
    "#username = ''\n",
    "#password = '\n",
    "conn_str = f'mssql+pyodbc://@{server}/{database}?trusted_connection=yes&driver=ODBC+Driver+17+for+SQL+Server'\n",
    "engine = create_engine(conn_str)\n",
    "engine"
   ]
  },
  {
   "cell_type": "markdown",
   "id": "2e8dc6fc-e90f-43e8-b955-12c1734340fc",
   "metadata": {},
   "source": [
    "#### Read Sales Date Data from stg_date table"
   ]
  },
  {
   "cell_type": "code",
   "execution_count": 3,
   "id": "b482f5a6-8921-48d8-aef4-4ba25c53c6e4",
   "metadata": {},
   "outputs": [],
   "source": [
    "sql_stg_date = '''SELECT *\n",
    "                  FROM  stg_date'''"
   ]
  },
  {
   "cell_type": "code",
   "execution_count": 4,
   "id": "2a3e28d2-828d-49bb-9102-53dfe5b93a95",
   "metadata": {},
   "outputs": [
    {
     "data": {
      "text/html": [
       "<div>\n",
       "<style scoped>\n",
       "    .dataframe tbody tr th:only-of-type {\n",
       "        vertical-align: middle;\n",
       "    }\n",
       "\n",
       "    .dataframe tbody tr th {\n",
       "        vertical-align: top;\n",
       "    }\n",
       "\n",
       "    .dataframe thead th {\n",
       "        text-align: right;\n",
       "    }\n",
       "</style>\n",
       "<table border=\"1\" class=\"dataframe\">\n",
       "  <thead>\n",
       "    <tr style=\"text-align: right;\">\n",
       "      <th></th>\n",
       "      <th>order_date</th>\n",
       "      <th>qtr</th>\n",
       "      <th>month</th>\n",
       "      <th>year</th>\n",
       "    </tr>\n",
       "  </thead>\n",
       "  <tbody>\n",
       "    <tr>\n",
       "      <th>0</th>\n",
       "      <td>2003-02-24</td>\n",
       "      <td>1</td>\n",
       "      <td>2</td>\n",
       "      <td>2003</td>\n",
       "    </tr>\n",
       "    <tr>\n",
       "      <th>1</th>\n",
       "      <td>2003-05-07</td>\n",
       "      <td>2</td>\n",
       "      <td>5</td>\n",
       "      <td>2003</td>\n",
       "    </tr>\n",
       "    <tr>\n",
       "      <th>2</th>\n",
       "      <td>2003-07-01</td>\n",
       "      <td>3</td>\n",
       "      <td>7</td>\n",
       "      <td>2003</td>\n",
       "    </tr>\n",
       "    <tr>\n",
       "      <th>3</th>\n",
       "      <td>2003-08-25</td>\n",
       "      <td>3</td>\n",
       "      <td>8</td>\n",
       "      <td>2003</td>\n",
       "    </tr>\n",
       "    <tr>\n",
       "      <th>4</th>\n",
       "      <td>2003-10-10</td>\n",
       "      <td>4</td>\n",
       "      <td>10</td>\n",
       "      <td>2003</td>\n",
       "    </tr>\n",
       "  </tbody>\n",
       "</table>\n",
       "</div>"
      ],
      "text/plain": [
       "   order_date  qtr  month  year\n",
       "0  2003-02-24    1      2  2003\n",
       "1  2003-05-07    2      5  2003\n",
       "2  2003-07-01    3      7  2003\n",
       "3  2003-08-25    3      8  2003\n",
       "4  2003-10-10    4     10  2003"
      ]
     },
     "execution_count": 4,
     "metadata": {},
     "output_type": "execute_result"
    }
   ],
   "source": [
    "# store data to a dataframe \n",
    "stg_date_df = pd.read_sql(sql_stg_date,engine)\n",
    "stg_date_df.head()"
   ]
  },
  {
   "cell_type": "code",
   "execution_count": 5,
   "id": "bbaacad1-cf37-4ebe-9dfd-72440a055ac3",
   "metadata": {},
   "outputs": [
    {
     "data": {
      "text/plain": [
       "2823"
      ]
     },
     "execution_count": 5,
     "metadata": {},
     "output_type": "execute_result"
    }
   ],
   "source": [
    "len(stg_date_df)"
   ]
  },
  {
   "cell_type": "markdown",
   "id": "7bb0087b-81b4-44e0-9735-ce4cefbc93c1",
   "metadata": {},
   "source": [
    "#### Cleand Sales Date Data "
   ]
  },
  {
   "cell_type": "code",
   "execution_count": 6,
   "id": "27d48f36-f77f-4151-bb9e-8bf21b6f58da",
   "metadata": {},
   "outputs": [],
   "source": [
    "stg_date_df['order_date'] = pd.to_datetime(stg_date_df['order_date'])\n",
    "stg_date_df['date_id'] = stg_date_df['order_date'].dt.strftime('%Y%m%d').astype(int)"
   ]
  },
  {
   "cell_type": "code",
   "execution_count": 7,
   "id": "e78f297e-7735-4982-b62d-694af68653df",
   "metadata": {},
   "outputs": [
    {
     "data": {
      "text/plain": [
       "0       20030224\n",
       "1       20030507\n",
       "2       20030701\n",
       "3       20030825\n",
       "4       20031010\n",
       "          ...   \n",
       "2818    20041202\n",
       "2819    20050131\n",
       "2820    20050301\n",
       "2821    20050328\n",
       "2822    20050506\n",
       "Name: date_id, Length: 2823, dtype: int64"
      ]
     },
     "execution_count": 7,
     "metadata": {},
     "output_type": "execute_result"
    }
   ],
   "source": [
    "stg_date_df['date_id']"
   ]
  },
  {
   "cell_type": "code",
   "execution_count": 8,
   "id": "e1cdda2b-e331-470d-b2ea-8dfe3ce9df15",
   "metadata": {},
   "outputs": [
    {
     "data": {
      "text/plain": [
       "date_id\n",
       "20031114    38\n",
       "20041124    35\n",
       "20031112    34\n",
       "20041117    32\n",
       "20041104    29\n",
       "            ..\n",
       "20040420     1\n",
       "20030411     1\n",
       "20050302     1\n",
       "20030813     1\n",
       "20030421     1\n",
       "Name: count, Length: 252, dtype: int64"
      ]
     },
     "execution_count": 8,
     "metadata": {},
     "output_type": "execute_result"
    }
   ],
   "source": [
    "# check distinict order_date values \n",
    "stg_date_df['date_id'].value_counts()"
   ]
  },
  {
   "cell_type": "code",
   "execution_count": 9,
   "id": "b0f9d1e1-cabb-463f-a406-36fd9a408d9c",
   "metadata": {},
   "outputs": [
    {
     "data": {
      "text/plain": [
       "np.int64(0)"
      ]
     },
     "execution_count": 9,
     "metadata": {},
     "output_type": "execute_result"
    }
   ],
   "source": [
    "# Check for null values \n",
    "stg_date_df['date_id'].isnull().sum()\n"
   ]
  },
  {
   "cell_type": "markdown",
   "id": "ecaddc4f-5297-4c98-ad64-80f18ba57fe8",
   "metadata": {},
   "source": [
    "##### Drop duplicates"
   ]
  },
  {
   "cell_type": "code",
   "execution_count": 10,
   "id": "a32314df-09fb-4fe4-96c2-37e9936514cf",
   "metadata": {},
   "outputs": [],
   "source": [
    "# Drop duplicates\n",
    "stg_date_df= stg_date_df.drop_duplicates()"
   ]
  },
  {
   "cell_type": "code",
   "execution_count": 11,
   "id": "1710483e-11bc-4067-9f62-a43c1e72d072",
   "metadata": {},
   "outputs": [
    {
     "data": {
      "text/plain": [
       "252"
      ]
     },
     "execution_count": 11,
     "metadata": {},
     "output_type": "execute_result"
    }
   ],
   "source": [
    "len(stg_date_df)"
   ]
  },
  {
   "cell_type": "code",
   "execution_count": 12,
   "id": "af8bda53-fa99-4cb5-9950-f07ad46fbb8a",
   "metadata": {},
   "outputs": [
    {
     "data": {
      "text/html": [
       "<div>\n",
       "<style scoped>\n",
       "    .dataframe tbody tr th:only-of-type {\n",
       "        vertical-align: middle;\n",
       "    }\n",
       "\n",
       "    .dataframe tbody tr th {\n",
       "        vertical-align: top;\n",
       "    }\n",
       "\n",
       "    .dataframe thead th {\n",
       "        text-align: right;\n",
       "    }\n",
       "</style>\n",
       "<table border=\"1\" class=\"dataframe\">\n",
       "  <thead>\n",
       "    <tr style=\"text-align: right;\">\n",
       "      <th></th>\n",
       "      <th>order_date</th>\n",
       "      <th>qtr</th>\n",
       "      <th>month</th>\n",
       "      <th>year</th>\n",
       "      <th>date_id</th>\n",
       "    </tr>\n",
       "  </thead>\n",
       "  <tbody>\n",
       "    <tr>\n",
       "      <th>0</th>\n",
       "      <td>2003-02-24</td>\n",
       "      <td>1</td>\n",
       "      <td>2</td>\n",
       "      <td>2003</td>\n",
       "      <td>20030224</td>\n",
       "    </tr>\n",
       "    <tr>\n",
       "      <th>1</th>\n",
       "      <td>2003-05-07</td>\n",
       "      <td>2</td>\n",
       "      <td>5</td>\n",
       "      <td>2003</td>\n",
       "      <td>20030507</td>\n",
       "    </tr>\n",
       "    <tr>\n",
       "      <th>2</th>\n",
       "      <td>2003-07-01</td>\n",
       "      <td>3</td>\n",
       "      <td>7</td>\n",
       "      <td>2003</td>\n",
       "      <td>20030701</td>\n",
       "    </tr>\n",
       "    <tr>\n",
       "      <th>3</th>\n",
       "      <td>2003-08-25</td>\n",
       "      <td>3</td>\n",
       "      <td>8</td>\n",
       "      <td>2003</td>\n",
       "      <td>20030825</td>\n",
       "    </tr>\n",
       "    <tr>\n",
       "      <th>4</th>\n",
       "      <td>2003-10-10</td>\n",
       "      <td>4</td>\n",
       "      <td>10</td>\n",
       "      <td>2003</td>\n",
       "      <td>20031010</td>\n",
       "    </tr>\n",
       "    <tr>\n",
       "      <th>5</th>\n",
       "      <td>2003-10-28</td>\n",
       "      <td>4</td>\n",
       "      <td>10</td>\n",
       "      <td>2003</td>\n",
       "      <td>20031028</td>\n",
       "    </tr>\n",
       "    <tr>\n",
       "      <th>6</th>\n",
       "      <td>2003-11-11</td>\n",
       "      <td>4</td>\n",
       "      <td>11</td>\n",
       "      <td>2003</td>\n",
       "      <td>20031111</td>\n",
       "    </tr>\n",
       "    <tr>\n",
       "      <th>7</th>\n",
       "      <td>2003-11-18</td>\n",
       "      <td>4</td>\n",
       "      <td>11</td>\n",
       "      <td>2003</td>\n",
       "      <td>20031118</td>\n",
       "    </tr>\n",
       "    <tr>\n",
       "      <th>8</th>\n",
       "      <td>2003-12-01</td>\n",
       "      <td>4</td>\n",
       "      <td>12</td>\n",
       "      <td>2003</td>\n",
       "      <td>20031201</td>\n",
       "    </tr>\n",
       "    <tr>\n",
       "      <th>9</th>\n",
       "      <td>2004-01-15</td>\n",
       "      <td>1</td>\n",
       "      <td>1</td>\n",
       "      <td>2004</td>\n",
       "      <td>20040115</td>\n",
       "    </tr>\n",
       "  </tbody>\n",
       "</table>\n",
       "</div>"
      ],
      "text/plain": [
       "  order_date  qtr  month  year   date_id\n",
       "0 2003-02-24    1      2  2003  20030224\n",
       "1 2003-05-07    2      5  2003  20030507\n",
       "2 2003-07-01    3      7  2003  20030701\n",
       "3 2003-08-25    3      8  2003  20030825\n",
       "4 2003-10-10    4     10  2003  20031010\n",
       "5 2003-10-28    4     10  2003  20031028\n",
       "6 2003-11-11    4     11  2003  20031111\n",
       "7 2003-11-18    4     11  2003  20031118\n",
       "8 2003-12-01    4     12  2003  20031201\n",
       "9 2004-01-15    1      1  2004  20040115"
      ]
     },
     "execution_count": 12,
     "metadata": {},
     "output_type": "execute_result"
    }
   ],
   "source": [
    "stg_date_df.head(10)"
   ]
  },
  {
   "cell_type": "code",
   "execution_count": 13,
   "id": "b3a4584c-bb74-4026-8e8e-ec4513354e31",
   "metadata": {},
   "outputs": [
    {
     "data": {
      "text/html": [
       "<div>\n",
       "<style scoped>\n",
       "    .dataframe tbody tr th:only-of-type {\n",
       "        vertical-align: middle;\n",
       "    }\n",
       "\n",
       "    .dataframe tbody tr th {\n",
       "        vertical-align: top;\n",
       "    }\n",
       "\n",
       "    .dataframe thead th {\n",
       "        text-align: right;\n",
       "    }\n",
       "</style>\n",
       "<table border=\"1\" class=\"dataframe\">\n",
       "  <thead>\n",
       "    <tr style=\"text-align: right;\">\n",
       "      <th></th>\n",
       "      <th>order_date</th>\n",
       "      <th>qtr</th>\n",
       "      <th>month</th>\n",
       "      <th>year</th>\n",
       "      <th>date_id</th>\n",
       "    </tr>\n",
       "  </thead>\n",
       "  <tbody>\n",
       "    <tr>\n",
       "      <th>0</th>\n",
       "      <td>2003-02-24</td>\n",
       "      <td>1</td>\n",
       "      <td>2</td>\n",
       "      <td>2003</td>\n",
       "      <td>20030224</td>\n",
       "    </tr>\n",
       "    <tr>\n",
       "      <th>1</th>\n",
       "      <td>2003-05-07</td>\n",
       "      <td>2</td>\n",
       "      <td>5</td>\n",
       "      <td>2003</td>\n",
       "      <td>20030507</td>\n",
       "    </tr>\n",
       "    <tr>\n",
       "      <th>2</th>\n",
       "      <td>2003-07-01</td>\n",
       "      <td>3</td>\n",
       "      <td>7</td>\n",
       "      <td>2003</td>\n",
       "      <td>20030701</td>\n",
       "    </tr>\n",
       "    <tr>\n",
       "      <th>3</th>\n",
       "      <td>2003-08-25</td>\n",
       "      <td>3</td>\n",
       "      <td>8</td>\n",
       "      <td>2003</td>\n",
       "      <td>20030825</td>\n",
       "    </tr>\n",
       "    <tr>\n",
       "      <th>4</th>\n",
       "      <td>2003-10-10</td>\n",
       "      <td>4</td>\n",
       "      <td>10</td>\n",
       "      <td>2003</td>\n",
       "      <td>20031010</td>\n",
       "    </tr>\n",
       "    <tr>\n",
       "      <th>...</th>\n",
       "      <td>...</td>\n",
       "      <td>...</td>\n",
       "      <td>...</td>\n",
       "      <td>...</td>\n",
       "      <td>...</td>\n",
       "    </tr>\n",
       "    <tr>\n",
       "      <th>247</th>\n",
       "      <td>2003-04-11</td>\n",
       "      <td>2</td>\n",
       "      <td>4</td>\n",
       "      <td>2003</td>\n",
       "      <td>20030411</td>\n",
       "    </tr>\n",
       "    <tr>\n",
       "      <th>248</th>\n",
       "      <td>2003-08-13</td>\n",
       "      <td>3</td>\n",
       "      <td>8</td>\n",
       "      <td>2003</td>\n",
       "      <td>20030813</td>\n",
       "    </tr>\n",
       "    <tr>\n",
       "      <th>249</th>\n",
       "      <td>2003-10-08</td>\n",
       "      <td>4</td>\n",
       "      <td>10</td>\n",
       "      <td>2003</td>\n",
       "      <td>20031008</td>\n",
       "    </tr>\n",
       "    <tr>\n",
       "      <th>250</th>\n",
       "      <td>2005-03-28</td>\n",
       "      <td>1</td>\n",
       "      <td>3</td>\n",
       "      <td>2005</td>\n",
       "      <td>20050328</td>\n",
       "    </tr>\n",
       "    <tr>\n",
       "      <th>251</th>\n",
       "      <td>2003-04-21</td>\n",
       "      <td>2</td>\n",
       "      <td>4</td>\n",
       "      <td>2003</td>\n",
       "      <td>20030421</td>\n",
       "    </tr>\n",
       "  </tbody>\n",
       "</table>\n",
       "<p>252 rows × 5 columns</p>\n",
       "</div>"
      ],
      "text/plain": [
       "    order_date  qtr  month  year   date_id\n",
       "0   2003-02-24    1      2  2003  20030224\n",
       "1   2003-05-07    2      5  2003  20030507\n",
       "2   2003-07-01    3      7  2003  20030701\n",
       "3   2003-08-25    3      8  2003  20030825\n",
       "4   2003-10-10    4     10  2003  20031010\n",
       "..         ...  ...    ...   ...       ...\n",
       "247 2003-04-11    2      4  2003  20030411\n",
       "248 2003-08-13    3      8  2003  20030813\n",
       "249 2003-10-08    4     10  2003  20031008\n",
       "250 2005-03-28    1      3  2005  20050328\n",
       "251 2003-04-21    2      4  2003  20030421\n",
       "\n",
       "[252 rows x 5 columns]"
      ]
     },
     "execution_count": 13,
     "metadata": {},
     "output_type": "execute_result"
    }
   ],
   "source": [
    "stg_date_df = stg_date_df.copy()\n",
    "stg_date_df = stg_date_df.reset_index(drop = True)\n",
    "stg_date_df"
   ]
  },
  {
   "cell_type": "markdown",
   "id": "bbabc0f1-0c6c-4113-a7d9-1d8b6c19e61f",
   "metadata": {},
   "source": [
    "#### Load Data to DimDate Using Incremental Load Approach"
   ]
  },
  {
   "cell_type": "markdown",
   "id": "fa0549ad-7891-42bc-b41d-294c7d830902",
   "metadata": {},
   "source": [
    "##### 1) Load Sales Date Data from DimDate Table"
   ]
  },
  {
   "cell_type": "code",
   "execution_count": 14,
   "id": "7ed4ab8a-7bc2-4272-9134-fe5b183c147e",
   "metadata": {},
   "outputs": [],
   "source": [
    "# load DimDate table into a DataFrame\n",
    "sql_DimDate = '''SELECT *\n",
    "                  FROM  DimDate'''"
   ]
  },
  {
   "cell_type": "code",
   "execution_count": 15,
   "id": "4b73dba0-3485-44f3-a358-137c9a9581ed",
   "metadata": {},
   "outputs": [
    {
     "data": {
      "text/html": [
       "<div>\n",
       "<style scoped>\n",
       "    .dataframe tbody tr th:only-of-type {\n",
       "        vertical-align: middle;\n",
       "    }\n",
       "\n",
       "    .dataframe tbody tr th {\n",
       "        vertical-align: top;\n",
       "    }\n",
       "\n",
       "    .dataframe thead th {\n",
       "        text-align: right;\n",
       "    }\n",
       "</style>\n",
       "<table border=\"1\" class=\"dataframe\">\n",
       "  <thead>\n",
       "    <tr style=\"text-align: right;\">\n",
       "      <th></th>\n",
       "      <th>date_id</th>\n",
       "      <th>order_date</th>\n",
       "      <th>qtr</th>\n",
       "      <th>month</th>\n",
       "      <th>year</th>\n",
       "    </tr>\n",
       "  </thead>\n",
       "  <tbody>\n",
       "  </tbody>\n",
       "</table>\n",
       "</div>"
      ],
      "text/plain": [
       "Empty DataFrame\n",
       "Columns: [date_id, order_date, qtr, month, year]\n",
       "Index: []"
      ]
     },
     "execution_count": 15,
     "metadata": {},
     "output_type": "execute_result"
    }
   ],
   "source": [
    "dim_date_df = pd.read_sql(sql_DimDate, engine)\n",
    "dim_date_df.head(7)"
   ]
  },
  {
   "cell_type": "markdown",
   "id": "7dc73123-32f7-49aa-8502-81974131df06",
   "metadata": {},
   "source": [
    "##### 2) Perform stg_date left join DimDate tables to find new records "
   ]
  },
  {
   "cell_type": "code",
   "execution_count": 16,
   "id": "41a3f2fa-12b2-44b4-8231-eeb5a4e09f05",
   "metadata": {},
   "outputs": [
    {
     "data": {
      "text/html": [
       "<div>\n",
       "<style scoped>\n",
       "    .dataframe tbody tr th:only-of-type {\n",
       "        vertical-align: middle;\n",
       "    }\n",
       "\n",
       "    .dataframe tbody tr th {\n",
       "        vertical-align: top;\n",
       "    }\n",
       "\n",
       "    .dataframe thead th {\n",
       "        text-align: right;\n",
       "    }\n",
       "</style>\n",
       "<table border=\"1\" class=\"dataframe\">\n",
       "  <thead>\n",
       "    <tr style=\"text-align: right;\">\n",
       "      <th></th>\n",
       "      <th>order_date</th>\n",
       "      <th>qtr</th>\n",
       "      <th>month</th>\n",
       "      <th>year</th>\n",
       "      <th>date_id</th>\n",
       "      <th>order_date_dim</th>\n",
       "      <th>qtr_dim</th>\n",
       "      <th>month_dim</th>\n",
       "      <th>year_dim</th>\n",
       "      <th>_merge</th>\n",
       "    </tr>\n",
       "  </thead>\n",
       "  <tbody>\n",
       "    <tr>\n",
       "      <th>0</th>\n",
       "      <td>2003-02-24</td>\n",
       "      <td>1</td>\n",
       "      <td>2</td>\n",
       "      <td>2003</td>\n",
       "      <td>20030224</td>\n",
       "      <td>NaN</td>\n",
       "      <td>NaN</td>\n",
       "      <td>NaN</td>\n",
       "      <td>NaN</td>\n",
       "      <td>left_only</td>\n",
       "    </tr>\n",
       "    <tr>\n",
       "      <th>1</th>\n",
       "      <td>2003-05-07</td>\n",
       "      <td>2</td>\n",
       "      <td>5</td>\n",
       "      <td>2003</td>\n",
       "      <td>20030507</td>\n",
       "      <td>NaN</td>\n",
       "      <td>NaN</td>\n",
       "      <td>NaN</td>\n",
       "      <td>NaN</td>\n",
       "      <td>left_only</td>\n",
       "    </tr>\n",
       "    <tr>\n",
       "      <th>2</th>\n",
       "      <td>2003-07-01</td>\n",
       "      <td>3</td>\n",
       "      <td>7</td>\n",
       "      <td>2003</td>\n",
       "      <td>20030701</td>\n",
       "      <td>NaN</td>\n",
       "      <td>NaN</td>\n",
       "      <td>NaN</td>\n",
       "      <td>NaN</td>\n",
       "      <td>left_only</td>\n",
       "    </tr>\n",
       "    <tr>\n",
       "      <th>3</th>\n",
       "      <td>2003-08-25</td>\n",
       "      <td>3</td>\n",
       "      <td>8</td>\n",
       "      <td>2003</td>\n",
       "      <td>20030825</td>\n",
       "      <td>NaN</td>\n",
       "      <td>NaN</td>\n",
       "      <td>NaN</td>\n",
       "      <td>NaN</td>\n",
       "      <td>left_only</td>\n",
       "    </tr>\n",
       "    <tr>\n",
       "      <th>4</th>\n",
       "      <td>2003-10-10</td>\n",
       "      <td>4</td>\n",
       "      <td>10</td>\n",
       "      <td>2003</td>\n",
       "      <td>20031010</td>\n",
       "      <td>NaN</td>\n",
       "      <td>NaN</td>\n",
       "      <td>NaN</td>\n",
       "      <td>NaN</td>\n",
       "      <td>left_only</td>\n",
       "    </tr>\n",
       "  </tbody>\n",
       "</table>\n",
       "</div>"
      ],
      "text/plain": [
       "  order_date  qtr  month  year   date_id order_date_dim qtr_dim month_dim  \\\n",
       "0 2003-02-24    1      2  2003  20030224            NaN     NaN       NaN   \n",
       "1 2003-05-07    2      5  2003  20030507            NaN     NaN       NaN   \n",
       "2 2003-07-01    3      7  2003  20030701            NaN     NaN       NaN   \n",
       "3 2003-08-25    3      8  2003  20030825            NaN     NaN       NaN   \n",
       "4 2003-10-10    4     10  2003  20031010            NaN     NaN       NaN   \n",
       "\n",
       "  year_dim     _merge  \n",
       "0      NaN  left_only  \n",
       "1      NaN  left_only  \n",
       "2      NaN  left_only  \n",
       "3      NaN  left_only  \n",
       "4      NaN  left_only  "
      ]
     },
     "execution_count": 16,
     "metadata": {},
     "output_type": "execute_result"
    }
   ],
   "source": [
    "# Merge on a composite key columns \n",
    "merged_date_df = stg_date_df.merge(dim_date_df, on = ['date_id']\n",
    "                                 , how = 'left', indicator = True, suffixes = ('','_dim'))\n",
    "merged_date_df.head()"
   ]
  },
  {
   "cell_type": "code",
   "execution_count": 17,
   "id": "5a574535-835f-4f99-9137-0c858265e9ba",
   "metadata": {},
   "outputs": [
    {
     "data": {
      "text/html": [
       "<div>\n",
       "<style scoped>\n",
       "    .dataframe tbody tr th:only-of-type {\n",
       "        vertical-align: middle;\n",
       "    }\n",
       "\n",
       "    .dataframe tbody tr th {\n",
       "        vertical-align: top;\n",
       "    }\n",
       "\n",
       "    .dataframe thead th {\n",
       "        text-align: right;\n",
       "    }\n",
       "</style>\n",
       "<table border=\"1\" class=\"dataframe\">\n",
       "  <thead>\n",
       "    <tr style=\"text-align: right;\">\n",
       "      <th></th>\n",
       "      <th>order_date</th>\n",
       "      <th>qtr</th>\n",
       "      <th>month</th>\n",
       "      <th>year</th>\n",
       "      <th>date_id</th>\n",
       "      <th>order_date_dim</th>\n",
       "      <th>qtr_dim</th>\n",
       "      <th>month_dim</th>\n",
       "      <th>year_dim</th>\n",
       "      <th>_merge</th>\n",
       "    </tr>\n",
       "  </thead>\n",
       "  <tbody>\n",
       "    <tr>\n",
       "      <th>0</th>\n",
       "      <td>2003-02-24</td>\n",
       "      <td>1</td>\n",
       "      <td>2</td>\n",
       "      <td>2003</td>\n",
       "      <td>20030224</td>\n",
       "      <td>NaN</td>\n",
       "      <td>NaN</td>\n",
       "      <td>NaN</td>\n",
       "      <td>NaN</td>\n",
       "      <td>left_only</td>\n",
       "    </tr>\n",
       "    <tr>\n",
       "      <th>1</th>\n",
       "      <td>2003-05-07</td>\n",
       "      <td>2</td>\n",
       "      <td>5</td>\n",
       "      <td>2003</td>\n",
       "      <td>20030507</td>\n",
       "      <td>NaN</td>\n",
       "      <td>NaN</td>\n",
       "      <td>NaN</td>\n",
       "      <td>NaN</td>\n",
       "      <td>left_only</td>\n",
       "    </tr>\n",
       "    <tr>\n",
       "      <th>2</th>\n",
       "      <td>2003-07-01</td>\n",
       "      <td>3</td>\n",
       "      <td>7</td>\n",
       "      <td>2003</td>\n",
       "      <td>20030701</td>\n",
       "      <td>NaN</td>\n",
       "      <td>NaN</td>\n",
       "      <td>NaN</td>\n",
       "      <td>NaN</td>\n",
       "      <td>left_only</td>\n",
       "    </tr>\n",
       "    <tr>\n",
       "      <th>3</th>\n",
       "      <td>2003-08-25</td>\n",
       "      <td>3</td>\n",
       "      <td>8</td>\n",
       "      <td>2003</td>\n",
       "      <td>20030825</td>\n",
       "      <td>NaN</td>\n",
       "      <td>NaN</td>\n",
       "      <td>NaN</td>\n",
       "      <td>NaN</td>\n",
       "      <td>left_only</td>\n",
       "    </tr>\n",
       "    <tr>\n",
       "      <th>4</th>\n",
       "      <td>2003-10-10</td>\n",
       "      <td>4</td>\n",
       "      <td>10</td>\n",
       "      <td>2003</td>\n",
       "      <td>20031010</td>\n",
       "      <td>NaN</td>\n",
       "      <td>NaN</td>\n",
       "      <td>NaN</td>\n",
       "      <td>NaN</td>\n",
       "      <td>left_only</td>\n",
       "    </tr>\n",
       "  </tbody>\n",
       "</table>\n",
       "</div>"
      ],
      "text/plain": [
       "  order_date  qtr  month  year   date_id order_date_dim qtr_dim month_dim  \\\n",
       "0 2003-02-24    1      2  2003  20030224            NaN     NaN       NaN   \n",
       "1 2003-05-07    2      5  2003  20030507            NaN     NaN       NaN   \n",
       "2 2003-07-01    3      7  2003  20030701            NaN     NaN       NaN   \n",
       "3 2003-08-25    3      8  2003  20030825            NaN     NaN       NaN   \n",
       "4 2003-10-10    4     10  2003  20031010            NaN     NaN       NaN   \n",
       "\n",
       "  year_dim     _merge  \n",
       "0      NaN  left_only  \n",
       "1      NaN  left_only  \n",
       "2      NaN  left_only  \n",
       "3      NaN  left_only  \n",
       "4      NaN  left_only  "
      ]
     },
     "execution_count": 17,
     "metadata": {},
     "output_type": "execute_result"
    }
   ],
   "source": [
    "# Filter records that are only in staging but not in DimDate \n",
    "new_date_records_df = merged_date_df[merged_date_df['_merge']== 'left_only']\n",
    "new_date_records_df.head()"
   ]
  },
  {
   "cell_type": "code",
   "execution_count": 18,
   "id": "3cb2c59c-04a2-4428-a6f2-8d2acd57f65b",
   "metadata": {},
   "outputs": [
    {
     "data": {
      "text/html": [
       "<div>\n",
       "<style scoped>\n",
       "    .dataframe tbody tr th:only-of-type {\n",
       "        vertical-align: middle;\n",
       "    }\n",
       "\n",
       "    .dataframe tbody tr th {\n",
       "        vertical-align: top;\n",
       "    }\n",
       "\n",
       "    .dataframe thead th {\n",
       "        text-align: right;\n",
       "    }\n",
       "</style>\n",
       "<table border=\"1\" class=\"dataframe\">\n",
       "  <thead>\n",
       "    <tr style=\"text-align: right;\">\n",
       "      <th></th>\n",
       "      <th>order_date</th>\n",
       "      <th>qtr</th>\n",
       "      <th>month</th>\n",
       "      <th>year</th>\n",
       "      <th>date_id</th>\n",
       "    </tr>\n",
       "  </thead>\n",
       "  <tbody>\n",
       "    <tr>\n",
       "      <th>0</th>\n",
       "      <td>2003-02-24</td>\n",
       "      <td>1</td>\n",
       "      <td>2</td>\n",
       "      <td>2003</td>\n",
       "      <td>20030224</td>\n",
       "    </tr>\n",
       "    <tr>\n",
       "      <th>1</th>\n",
       "      <td>2003-05-07</td>\n",
       "      <td>2</td>\n",
       "      <td>5</td>\n",
       "      <td>2003</td>\n",
       "      <td>20030507</td>\n",
       "    </tr>\n",
       "    <tr>\n",
       "      <th>2</th>\n",
       "      <td>2003-07-01</td>\n",
       "      <td>3</td>\n",
       "      <td>7</td>\n",
       "      <td>2003</td>\n",
       "      <td>20030701</td>\n",
       "    </tr>\n",
       "    <tr>\n",
       "      <th>3</th>\n",
       "      <td>2003-08-25</td>\n",
       "      <td>3</td>\n",
       "      <td>8</td>\n",
       "      <td>2003</td>\n",
       "      <td>20030825</td>\n",
       "    </tr>\n",
       "    <tr>\n",
       "      <th>4</th>\n",
       "      <td>2003-10-10</td>\n",
       "      <td>4</td>\n",
       "      <td>10</td>\n",
       "      <td>2003</td>\n",
       "      <td>20031010</td>\n",
       "    </tr>\n",
       "  </tbody>\n",
       "</table>\n",
       "</div>"
      ],
      "text/plain": [
       "  order_date  qtr  month  year   date_id\n",
       "0 2003-02-24    1      2  2003  20030224\n",
       "1 2003-05-07    2      5  2003  20030507\n",
       "2 2003-07-01    3      7  2003  20030701\n",
       "3 2003-08-25    3      8  2003  20030825\n",
       "4 2003-10-10    4     10  2003  20031010"
      ]
     },
     "execution_count": 18,
     "metadata": {},
     "output_type": "execute_result"
    }
   ],
   "source": [
    "# drop columns from DimCustomer and keep only staging data\n",
    "new_date_records_df= new_date_records_df[stg_date_df.columns]\n",
    "new_date_records_df.head()"
   ]
  },
  {
   "cell_type": "markdown",
   "id": "850388b1-e06e-4b74-83e8-290d76a7b5be",
   "metadata": {},
   "source": [
    "##### 3) Insert new records into DimDate  MS Server SQL Table "
   ]
  },
  {
   "cell_type": "code",
   "execution_count": 19,
   "id": "62a53e24-544a-4e66-a946-e2e57a29d647",
   "metadata": {},
   "outputs": [
    {
     "data": {
      "text/plain": [
       "['date_id', 'order_date', 'qtr', 'month', 'year']"
      ]
     },
     "execution_count": 19,
     "metadata": {},
     "output_type": "execute_result"
    }
   ],
   "source": [
    "# re-order columns \n",
    "re_ordered_cols = ['date_id','order_date', 'qtr', 'month', 'year']\n",
    "re_ordered_cols"
   ]
  },
  {
   "cell_type": "code",
   "execution_count": 20,
   "id": "6f8784fb-bacf-44e8-9633-fdecb844dd7a",
   "metadata": {},
   "outputs": [
    {
     "data": {
      "text/html": [
       "<div>\n",
       "<style scoped>\n",
       "    .dataframe tbody tr th:only-of-type {\n",
       "        vertical-align: middle;\n",
       "    }\n",
       "\n",
       "    .dataframe tbody tr th {\n",
       "        vertical-align: top;\n",
       "    }\n",
       "\n",
       "    .dataframe thead th {\n",
       "        text-align: right;\n",
       "    }\n",
       "</style>\n",
       "<table border=\"1\" class=\"dataframe\">\n",
       "  <thead>\n",
       "    <tr style=\"text-align: right;\">\n",
       "      <th></th>\n",
       "      <th>date_id</th>\n",
       "      <th>order_date</th>\n",
       "      <th>qtr</th>\n",
       "      <th>month</th>\n",
       "      <th>year</th>\n",
       "    </tr>\n",
       "  </thead>\n",
       "  <tbody>\n",
       "    <tr>\n",
       "      <th>0</th>\n",
       "      <td>20030224</td>\n",
       "      <td>2003-02-24</td>\n",
       "      <td>1</td>\n",
       "      <td>2</td>\n",
       "      <td>2003</td>\n",
       "    </tr>\n",
       "    <tr>\n",
       "      <th>1</th>\n",
       "      <td>20030507</td>\n",
       "      <td>2003-05-07</td>\n",
       "      <td>2</td>\n",
       "      <td>5</td>\n",
       "      <td>2003</td>\n",
       "    </tr>\n",
       "    <tr>\n",
       "      <th>2</th>\n",
       "      <td>20030701</td>\n",
       "      <td>2003-07-01</td>\n",
       "      <td>3</td>\n",
       "      <td>7</td>\n",
       "      <td>2003</td>\n",
       "    </tr>\n",
       "    <tr>\n",
       "      <th>3</th>\n",
       "      <td>20030825</td>\n",
       "      <td>2003-08-25</td>\n",
       "      <td>3</td>\n",
       "      <td>8</td>\n",
       "      <td>2003</td>\n",
       "    </tr>\n",
       "    <tr>\n",
       "      <th>4</th>\n",
       "      <td>20031010</td>\n",
       "      <td>2003-10-10</td>\n",
       "      <td>4</td>\n",
       "      <td>10</td>\n",
       "      <td>2003</td>\n",
       "    </tr>\n",
       "  </tbody>\n",
       "</table>\n",
       "</div>"
      ],
      "text/plain": [
       "    date_id order_date  qtr  month  year\n",
       "0  20030224 2003-02-24    1      2  2003\n",
       "1  20030507 2003-05-07    2      5  2003\n",
       "2  20030701 2003-07-01    3      7  2003\n",
       "3  20030825 2003-08-25    3      8  2003\n",
       "4  20031010 2003-10-10    4     10  2003"
      ]
     },
     "execution_count": 20,
     "metadata": {},
     "output_type": "execute_result"
    }
   ],
   "source": [
    "new_date_records_df= new_date_records_df[re_ordered_cols]\n",
    "new_date_records_df.head()"
   ]
  },
  {
   "cell_type": "code",
   "execution_count": 21,
   "id": "1bda51ee-f60b-42f1-b5ea-5377490299f4",
   "metadata": {},
   "outputs": [
    {
     "name": "stdout",
     "output_type": "stream",
     "text": [
      "252\n"
     ]
    }
   ],
   "source": [
    "# insert new records to the target table\n",
    "total_inserted_salesdate_records = new_date_records_df.to_sql('DimDate', con = engine, if_exists = 'append', index = False)\n",
    "print(total_inserted_salesdate_records)"
   ]
  },
  {
   "cell_type": "code",
   "execution_count": 22,
   "id": "0ae45acf-fcfc-4a06-a65c-b37de2603833",
   "metadata": {},
   "outputs": [
    {
     "data": {
      "text/html": [
       "<div>\n",
       "<style scoped>\n",
       "    .dataframe tbody tr th:only-of-type {\n",
       "        vertical-align: middle;\n",
       "    }\n",
       "\n",
       "    .dataframe tbody tr th {\n",
       "        vertical-align: top;\n",
       "    }\n",
       "\n",
       "    .dataframe thead th {\n",
       "        text-align: right;\n",
       "    }\n",
       "</style>\n",
       "<table border=\"1\" class=\"dataframe\">\n",
       "  <thead>\n",
       "    <tr style=\"text-align: right;\">\n",
       "      <th></th>\n",
       "      <th>date_id</th>\n",
       "      <th>order_date</th>\n",
       "      <th>qtr</th>\n",
       "      <th>month</th>\n",
       "      <th>year</th>\n",
       "    </tr>\n",
       "  </thead>\n",
       "  <tbody>\n",
       "    <tr>\n",
       "      <th>0</th>\n",
       "      <td>20030224</td>\n",
       "      <td>2003-02-24</td>\n",
       "      <td>1</td>\n",
       "      <td>2</td>\n",
       "      <td>2003</td>\n",
       "    </tr>\n",
       "  </tbody>\n",
       "</table>\n",
       "</div>"
      ],
      "text/plain": [
       "    date_id order_date  qtr  month  year\n",
       "0  20030224 2003-02-24    1      2  2003"
      ]
     },
     "execution_count": 22,
     "metadata": {},
     "output_type": "execute_result"
    }
   ],
   "source": [
    "new_date_records_df[new_date_records_df['date_id']==20030224]"
   ]
  },
  {
   "cell_type": "code",
   "execution_count": null,
   "id": "ed45112a-fd8b-4694-b330-bcdfbf9be842",
   "metadata": {},
   "outputs": [],
   "source": []
  }
 ],
 "metadata": {
  "kernelspec": {
   "display_name": "Python [conda env:base] *",
   "language": "python",
   "name": "conda-base-py"
  },
  "language_info": {
   "codemirror_mode": {
    "name": "ipython",
    "version": 3
   },
   "file_extension": ".py",
   "mimetype": "text/x-python",
   "name": "python",
   "nbconvert_exporter": "python",
   "pygments_lexer": "ipython3",
   "version": "3.13.5"
  }
 },
 "nbformat": 4,
 "nbformat_minor": 5
}
