{
 "cells": [
  {
   "cell_type": "code",
   "execution_count": 1,
   "id": "ddb2c12c-2f5d-4316-98ff-693673e983eb",
   "metadata": {},
   "outputs": [],
   "source": [
    "import pandas as pd \n",
    "from sqlalchemy import create_engine"
   ]
  },
  {
   "cell_type": "markdown",
   "id": "ad2f6085-7468-4fea-97b6-d2c7866bd9d1",
   "metadata": {},
   "source": [
    "#### Read product data from stg_product"
   ]
  },
  {
   "cell_type": "markdown",
   "id": "6cc34b4d-11e5-4841-9240-62b880eefc74",
   "metadata": {},
   "source": [
    "#### Create a connection to SQL Srever "
   ]
  },
  {
   "cell_type": "code",
   "execution_count": 2,
   "id": "0e638138-dca4-482b-910e-c4e822b9030b",
   "metadata": {},
   "outputs": [
    {
     "data": {
      "text/plain": [
       "Engine(mssql+pyodbc://@DB_SERVER/DB_NAME?driver=ODBC+Driver+17+for+SQL+Server&trusted_connection=yes)"
      ]
     },
     "execution_count": 2,
     "metadata": {},
     "output_type": "execute_result"
    }
   ],
   "source": [
    "server = 'DB_SERVER'\n",
    "database = 'DB_NAME'\n",
    "#username = ''\n",
    "#password = '\n",
    "conn_str = f'mssql+pyodbc://@{server}/{database}?trusted_connection=yes&driver=ODBC+Driver+17+for+SQL+Server'\n",
    "engine = create_engine(conn_str)\n",
    "engine"
   ]
  },
  {
   "cell_type": "markdown",
   "id": "2e8dc6fc-e90f-43e8-b955-12c1734340fc",
   "metadata": {},
   "source": [
    "#### Read Product Data from stg_product table"
   ]
  },
  {
   "cell_type": "code",
   "execution_count": 3,
   "id": "b482f5a6-8921-48d8-aef4-4ba25c53c6e4",
   "metadata": {},
   "outputs": [],
   "source": [
    "sql_stg_product = '''SELECT *\n",
    "                  FROM  stg_product'''"
   ]
  },
  {
   "cell_type": "code",
   "execution_count": 4,
   "id": "2a3e28d2-828d-49bb-9102-53dfe5b93a95",
   "metadata": {},
   "outputs": [
    {
     "data": {
      "text/html": [
       "<div>\n",
       "<style scoped>\n",
       "    .dataframe tbody tr th:only-of-type {\n",
       "        vertical-align: middle;\n",
       "    }\n",
       "\n",
       "    .dataframe tbody tr th {\n",
       "        vertical-align: top;\n",
       "    }\n",
       "\n",
       "    .dataframe thead th {\n",
       "        text-align: right;\n",
       "    }\n",
       "</style>\n",
       "<table border=\"1\" class=\"dataframe\">\n",
       "  <thead>\n",
       "    <tr style=\"text-align: right;\">\n",
       "      <th></th>\n",
       "      <th>product_code</th>\n",
       "      <th>product_line</th>\n",
       "    </tr>\n",
       "  </thead>\n",
       "  <tbody>\n",
       "    <tr>\n",
       "      <th>0</th>\n",
       "      <td>S10_1678</td>\n",
       "      <td>Motorcycles</td>\n",
       "    </tr>\n",
       "    <tr>\n",
       "      <th>1</th>\n",
       "      <td>S10_1678</td>\n",
       "      <td>Motorcycles</td>\n",
       "    </tr>\n",
       "    <tr>\n",
       "      <th>2</th>\n",
       "      <td>S10_1678</td>\n",
       "      <td>Motorcycles</td>\n",
       "    </tr>\n",
       "    <tr>\n",
       "      <th>3</th>\n",
       "      <td>S10_1678</td>\n",
       "      <td>Motorcycles</td>\n",
       "    </tr>\n",
       "    <tr>\n",
       "      <th>4</th>\n",
       "      <td>S10_1678</td>\n",
       "      <td>Motorcycles</td>\n",
       "    </tr>\n",
       "  </tbody>\n",
       "</table>\n",
       "</div>"
      ],
      "text/plain": [
       "  product_code product_line\n",
       "0     S10_1678  Motorcycles\n",
       "1     S10_1678  Motorcycles\n",
       "2     S10_1678  Motorcycles\n",
       "3     S10_1678  Motorcycles\n",
       "4     S10_1678  Motorcycles"
      ]
     },
     "execution_count": 4,
     "metadata": {},
     "output_type": "execute_result"
    }
   ],
   "source": [
    "# store data to a dataframe \n",
    "stg_product_df = pd.read_sql(sql_stg_product,engine)\n",
    "stg_product_df.head()"
   ]
  },
  {
   "cell_type": "code",
   "execution_count": 5,
   "id": "bbaacad1-cf37-4ebe-9dfd-72440a055ac3",
   "metadata": {},
   "outputs": [
    {
     "data": {
      "text/plain": [
       "2823"
      ]
     },
     "execution_count": 5,
     "metadata": {},
     "output_type": "execute_result"
    }
   ],
   "source": [
    "len(stg_product_df)"
   ]
  },
  {
   "cell_type": "markdown",
   "id": "7bb0087b-81b4-44e0-9735-ce4cefbc93c1",
   "metadata": {},
   "source": [
    "#### Cleand Product Data "
   ]
  },
  {
   "cell_type": "code",
   "execution_count": 6,
   "id": "e1cdda2b-e331-470d-b2ea-8dfe3ce9df15",
   "metadata": {},
   "outputs": [
    {
     "data": {
      "text/plain": [
       "product_code\n",
       "S18_3232    52\n",
       "S12_1666    28\n",
       "S10_4962    28\n",
       "S18_1097    28\n",
       "S10_1949    28\n",
       "            ..\n",
       "S18_2248    22\n",
       "S24_2887    22\n",
       "S18_4933    22\n",
       "S18_4409    22\n",
       "S24_3969    22\n",
       "Name: count, Length: 109, dtype: int64"
      ]
     },
     "execution_count": 6,
     "metadata": {},
     "output_type": "execute_result"
    }
   ],
   "source": [
    "# check distinict product_code values \n",
    "stg_product_df['product_code'].value_counts()"
   ]
  },
  {
   "cell_type": "code",
   "execution_count": 7,
   "id": "b0f9d1e1-cabb-463f-a406-36fd9a408d9c",
   "metadata": {},
   "outputs": [
    {
     "data": {
      "text/plain": [
       "np.int64(0)"
      ]
     },
     "execution_count": 7,
     "metadata": {},
     "output_type": "execute_result"
    }
   ],
   "source": [
    "# Check for null values \n",
    "stg_product_df['product_code'].isnull().sum()\n"
   ]
  },
  {
   "cell_type": "markdown",
   "id": "ecaddc4f-5297-4c98-ad64-80f18ba57fe8",
   "metadata": {},
   "source": [
    "##### Drop duplicates"
   ]
  },
  {
   "cell_type": "code",
   "execution_count": 8,
   "id": "a32314df-09fb-4fe4-96c2-37e9936514cf",
   "metadata": {},
   "outputs": [],
   "source": [
    "# Drop duplicates\n",
    "stg_product_df= stg_product_df.drop_duplicates()"
   ]
  },
  {
   "cell_type": "code",
   "execution_count": 9,
   "id": "1710483e-11bc-4067-9f62-a43c1e72d072",
   "metadata": {},
   "outputs": [
    {
     "data": {
      "text/plain": [
       "109"
      ]
     },
     "execution_count": 9,
     "metadata": {},
     "output_type": "execute_result"
    }
   ],
   "source": [
    "len(stg_product_df)"
   ]
  },
  {
   "cell_type": "code",
   "execution_count": 10,
   "id": "af8bda53-fa99-4cb5-9950-f07ad46fbb8a",
   "metadata": {},
   "outputs": [
    {
     "data": {
      "text/html": [
       "<div>\n",
       "<style scoped>\n",
       "    .dataframe tbody tr th:only-of-type {\n",
       "        vertical-align: middle;\n",
       "    }\n",
       "\n",
       "    .dataframe tbody tr th {\n",
       "        vertical-align: top;\n",
       "    }\n",
       "\n",
       "    .dataframe thead th {\n",
       "        text-align: right;\n",
       "    }\n",
       "</style>\n",
       "<table border=\"1\" class=\"dataframe\">\n",
       "  <thead>\n",
       "    <tr style=\"text-align: right;\">\n",
       "      <th></th>\n",
       "      <th>product_code</th>\n",
       "      <th>product_line</th>\n",
       "    </tr>\n",
       "  </thead>\n",
       "  <tbody>\n",
       "    <tr>\n",
       "      <th>0</th>\n",
       "      <td>S10_1678</td>\n",
       "      <td>Motorcycles</td>\n",
       "    </tr>\n",
       "    <tr>\n",
       "      <th>26</th>\n",
       "      <td>S10_1949</td>\n",
       "      <td>Classic Cars</td>\n",
       "    </tr>\n",
       "    <tr>\n",
       "      <th>54</th>\n",
       "      <td>S10_2016</td>\n",
       "      <td>Motorcycles</td>\n",
       "    </tr>\n",
       "    <tr>\n",
       "      <th>80</th>\n",
       "      <td>S10_4698</td>\n",
       "      <td>Motorcycles</td>\n",
       "    </tr>\n",
       "    <tr>\n",
       "      <th>106</th>\n",
       "      <td>S10_4757</td>\n",
       "      <td>Classic Cars</td>\n",
       "    </tr>\n",
       "    <tr>\n",
       "      <th>133</th>\n",
       "      <td>S10_4962</td>\n",
       "      <td>Classic Cars</td>\n",
       "    </tr>\n",
       "    <tr>\n",
       "      <th>161</th>\n",
       "      <td>S12_1099</td>\n",
       "      <td>Classic Cars</td>\n",
       "    </tr>\n",
       "    <tr>\n",
       "      <th>186</th>\n",
       "      <td>S12_1108</td>\n",
       "      <td>Classic Cars</td>\n",
       "    </tr>\n",
       "    <tr>\n",
       "      <th>212</th>\n",
       "      <td>S12_1666</td>\n",
       "      <td>Trucks and Buses</td>\n",
       "    </tr>\n",
       "    <tr>\n",
       "      <th>240</th>\n",
       "      <td>S12_2823</td>\n",
       "      <td>Motorcycles</td>\n",
       "    </tr>\n",
       "  </tbody>\n",
       "</table>\n",
       "</div>"
      ],
      "text/plain": [
       "    product_code      product_line\n",
       "0       S10_1678       Motorcycles\n",
       "26      S10_1949      Classic Cars\n",
       "54      S10_2016       Motorcycles\n",
       "80      S10_4698       Motorcycles\n",
       "106     S10_4757      Classic Cars\n",
       "133     S10_4962      Classic Cars\n",
       "161     S12_1099      Classic Cars\n",
       "186     S12_1108      Classic Cars\n",
       "212     S12_1666  Trucks and Buses\n",
       "240     S12_2823       Motorcycles"
      ]
     },
     "execution_count": 10,
     "metadata": {},
     "output_type": "execute_result"
    }
   ],
   "source": [
    "stg_product_df.head(10)"
   ]
  },
  {
   "cell_type": "code",
   "execution_count": 11,
   "id": "b3a4584c-bb74-4026-8e8e-ec4513354e31",
   "metadata": {},
   "outputs": [
    {
     "data": {
      "text/html": [
       "<div>\n",
       "<style scoped>\n",
       "    .dataframe tbody tr th:only-of-type {\n",
       "        vertical-align: middle;\n",
       "    }\n",
       "\n",
       "    .dataframe tbody tr th {\n",
       "        vertical-align: top;\n",
       "    }\n",
       "\n",
       "    .dataframe thead th {\n",
       "        text-align: right;\n",
       "    }\n",
       "</style>\n",
       "<table border=\"1\" class=\"dataframe\">\n",
       "  <thead>\n",
       "    <tr style=\"text-align: right;\">\n",
       "      <th></th>\n",
       "      <th>product_code</th>\n",
       "      <th>product_line</th>\n",
       "    </tr>\n",
       "  </thead>\n",
       "  <tbody>\n",
       "    <tr>\n",
       "      <th>0</th>\n",
       "      <td>S10_1678</td>\n",
       "      <td>Motorcycles</td>\n",
       "    </tr>\n",
       "    <tr>\n",
       "      <th>1</th>\n",
       "      <td>S10_1949</td>\n",
       "      <td>Classic Cars</td>\n",
       "    </tr>\n",
       "    <tr>\n",
       "      <th>2</th>\n",
       "      <td>S10_2016</td>\n",
       "      <td>Motorcycles</td>\n",
       "    </tr>\n",
       "    <tr>\n",
       "      <th>3</th>\n",
       "      <td>S10_4698</td>\n",
       "      <td>Motorcycles</td>\n",
       "    </tr>\n",
       "    <tr>\n",
       "      <th>4</th>\n",
       "      <td>S10_4757</td>\n",
       "      <td>Classic Cars</td>\n",
       "    </tr>\n",
       "    <tr>\n",
       "      <th>...</th>\n",
       "      <td>...</td>\n",
       "      <td>...</td>\n",
       "    </tr>\n",
       "    <tr>\n",
       "      <th>104</th>\n",
       "      <td>S700_3505</td>\n",
       "      <td>Ships</td>\n",
       "    </tr>\n",
       "    <tr>\n",
       "      <th>105</th>\n",
       "      <td>S700_3962</td>\n",
       "      <td>Ships</td>\n",
       "    </tr>\n",
       "    <tr>\n",
       "      <th>106</th>\n",
       "      <td>S700_4002</td>\n",
       "      <td>Planes</td>\n",
       "    </tr>\n",
       "    <tr>\n",
       "      <th>107</th>\n",
       "      <td>S72_1253</td>\n",
       "      <td>Planes</td>\n",
       "    </tr>\n",
       "    <tr>\n",
       "      <th>108</th>\n",
       "      <td>S72_3212</td>\n",
       "      <td>Ships</td>\n",
       "    </tr>\n",
       "  </tbody>\n",
       "</table>\n",
       "<p>109 rows × 2 columns</p>\n",
       "</div>"
      ],
      "text/plain": [
       "    product_code  product_line\n",
       "0       S10_1678   Motorcycles\n",
       "1       S10_1949  Classic Cars\n",
       "2       S10_2016   Motorcycles\n",
       "3       S10_4698   Motorcycles\n",
       "4       S10_4757  Classic Cars\n",
       "..           ...           ...\n",
       "104    S700_3505         Ships\n",
       "105    S700_3962         Ships\n",
       "106    S700_4002        Planes\n",
       "107     S72_1253        Planes\n",
       "108     S72_3212         Ships\n",
       "\n",
       "[109 rows x 2 columns]"
      ]
     },
     "execution_count": 11,
     "metadata": {},
     "output_type": "execute_result"
    }
   ],
   "source": [
    "stg_product_df = stg_product_df.copy()\n",
    "stg_product_df = stg_product_df.reset_index(drop = True)\n",
    "stg_product_df"
   ]
  },
  {
   "cell_type": "markdown",
   "id": "bbabc0f1-0c6c-4113-a7d9-1d8b6c19e61f",
   "metadata": {},
   "source": [
    "#### Load Data to DimProduct Using Incremental Load Approach"
   ]
  },
  {
   "cell_type": "markdown",
   "id": "fa0549ad-7891-42bc-b41d-294c7d830902",
   "metadata": {},
   "source": [
    "##### 1) Load Product Data from DimProduct Table"
   ]
  },
  {
   "cell_type": "code",
   "execution_count": 12,
   "id": "7ed4ab8a-7bc2-4272-9134-fe5b183c147e",
   "metadata": {},
   "outputs": [],
   "source": [
    "# load DimProduct table into a DataFrame\n",
    "sql_DimProduct = '''SELECT *\n",
    "                  FROM  DimProduct'''"
   ]
  },
  {
   "cell_type": "code",
   "execution_count": 13,
   "id": "4b73dba0-3485-44f3-a358-137c9a9581ed",
   "metadata": {},
   "outputs": [
    {
     "data": {
      "text/html": [
       "<div>\n",
       "<style scoped>\n",
       "    .dataframe tbody tr th:only-of-type {\n",
       "        vertical-align: middle;\n",
       "    }\n",
       "\n",
       "    .dataframe tbody tr th {\n",
       "        vertical-align: top;\n",
       "    }\n",
       "\n",
       "    .dataframe thead th {\n",
       "        text-align: right;\n",
       "    }\n",
       "</style>\n",
       "<table border=\"1\" class=\"dataframe\">\n",
       "  <thead>\n",
       "    <tr style=\"text-align: right;\">\n",
       "      <th></th>\n",
       "      <th>product_code</th>\n",
       "      <th>product_line</th>\n",
       "    </tr>\n",
       "  </thead>\n",
       "  <tbody>\n",
       "  </tbody>\n",
       "</table>\n",
       "</div>"
      ],
      "text/plain": [
       "Empty DataFrame\n",
       "Columns: [product_code, product_line]\n",
       "Index: []"
      ]
     },
     "execution_count": 13,
     "metadata": {},
     "output_type": "execute_result"
    }
   ],
   "source": [
    "dim_product_df = pd.read_sql(sql_DimProduct, engine)\n",
    "dim_product_df.head(7)"
   ]
  },
  {
   "cell_type": "markdown",
   "id": "7dc73123-32f7-49aa-8502-81974131df06",
   "metadata": {},
   "source": [
    "##### 2) Perform stg_product left join DimProduct tables to find new records "
   ]
  },
  {
   "cell_type": "code",
   "execution_count": 14,
   "id": "41a3f2fa-12b2-44b4-8231-eeb5a4e09f05",
   "metadata": {},
   "outputs": [
    {
     "data": {
      "text/html": [
       "<div>\n",
       "<style scoped>\n",
       "    .dataframe tbody tr th:only-of-type {\n",
       "        vertical-align: middle;\n",
       "    }\n",
       "\n",
       "    .dataframe tbody tr th {\n",
       "        vertical-align: top;\n",
       "    }\n",
       "\n",
       "    .dataframe thead th {\n",
       "        text-align: right;\n",
       "    }\n",
       "</style>\n",
       "<table border=\"1\" class=\"dataframe\">\n",
       "  <thead>\n",
       "    <tr style=\"text-align: right;\">\n",
       "      <th></th>\n",
       "      <th>product_code</th>\n",
       "      <th>product_line</th>\n",
       "      <th>product_line_dim</th>\n",
       "      <th>_merge</th>\n",
       "    </tr>\n",
       "  </thead>\n",
       "  <tbody>\n",
       "    <tr>\n",
       "      <th>0</th>\n",
       "      <td>S10_1678</td>\n",
       "      <td>Motorcycles</td>\n",
       "      <td>NaN</td>\n",
       "      <td>left_only</td>\n",
       "    </tr>\n",
       "    <tr>\n",
       "      <th>1</th>\n",
       "      <td>S10_1949</td>\n",
       "      <td>Classic Cars</td>\n",
       "      <td>NaN</td>\n",
       "      <td>left_only</td>\n",
       "    </tr>\n",
       "    <tr>\n",
       "      <th>2</th>\n",
       "      <td>S10_2016</td>\n",
       "      <td>Motorcycles</td>\n",
       "      <td>NaN</td>\n",
       "      <td>left_only</td>\n",
       "    </tr>\n",
       "    <tr>\n",
       "      <th>3</th>\n",
       "      <td>S10_4698</td>\n",
       "      <td>Motorcycles</td>\n",
       "      <td>NaN</td>\n",
       "      <td>left_only</td>\n",
       "    </tr>\n",
       "    <tr>\n",
       "      <th>4</th>\n",
       "      <td>S10_4757</td>\n",
       "      <td>Classic Cars</td>\n",
       "      <td>NaN</td>\n",
       "      <td>left_only</td>\n",
       "    </tr>\n",
       "  </tbody>\n",
       "</table>\n",
       "</div>"
      ],
      "text/plain": [
       "  product_code  product_line product_line_dim     _merge\n",
       "0     S10_1678   Motorcycles              NaN  left_only\n",
       "1     S10_1949  Classic Cars              NaN  left_only\n",
       "2     S10_2016   Motorcycles              NaN  left_only\n",
       "3     S10_4698   Motorcycles              NaN  left_only\n",
       "4     S10_4757  Classic Cars              NaN  left_only"
      ]
     },
     "execution_count": 14,
     "metadata": {},
     "output_type": "execute_result"
    }
   ],
   "source": [
    "# Merge on a key column \n",
    "merged_product_df = stg_product_df.merge(dim_product_df, on = ['product_code']\n",
    "                                 , how = 'left', indicator = True, suffixes = ('','_dim'))\n",
    "merged_product_df.head()"
   ]
  },
  {
   "cell_type": "code",
   "execution_count": 15,
   "id": "5a574535-835f-4f99-9137-0c858265e9ba",
   "metadata": {},
   "outputs": [
    {
     "data": {
      "text/html": [
       "<div>\n",
       "<style scoped>\n",
       "    .dataframe tbody tr th:only-of-type {\n",
       "        vertical-align: middle;\n",
       "    }\n",
       "\n",
       "    .dataframe tbody tr th {\n",
       "        vertical-align: top;\n",
       "    }\n",
       "\n",
       "    .dataframe thead th {\n",
       "        text-align: right;\n",
       "    }\n",
       "</style>\n",
       "<table border=\"1\" class=\"dataframe\">\n",
       "  <thead>\n",
       "    <tr style=\"text-align: right;\">\n",
       "      <th></th>\n",
       "      <th>product_code</th>\n",
       "      <th>product_line</th>\n",
       "      <th>product_line_dim</th>\n",
       "      <th>_merge</th>\n",
       "    </tr>\n",
       "  </thead>\n",
       "  <tbody>\n",
       "    <tr>\n",
       "      <th>0</th>\n",
       "      <td>S10_1678</td>\n",
       "      <td>Motorcycles</td>\n",
       "      <td>NaN</td>\n",
       "      <td>left_only</td>\n",
       "    </tr>\n",
       "    <tr>\n",
       "      <th>1</th>\n",
       "      <td>S10_1949</td>\n",
       "      <td>Classic Cars</td>\n",
       "      <td>NaN</td>\n",
       "      <td>left_only</td>\n",
       "    </tr>\n",
       "    <tr>\n",
       "      <th>2</th>\n",
       "      <td>S10_2016</td>\n",
       "      <td>Motorcycles</td>\n",
       "      <td>NaN</td>\n",
       "      <td>left_only</td>\n",
       "    </tr>\n",
       "    <tr>\n",
       "      <th>3</th>\n",
       "      <td>S10_4698</td>\n",
       "      <td>Motorcycles</td>\n",
       "      <td>NaN</td>\n",
       "      <td>left_only</td>\n",
       "    </tr>\n",
       "    <tr>\n",
       "      <th>4</th>\n",
       "      <td>S10_4757</td>\n",
       "      <td>Classic Cars</td>\n",
       "      <td>NaN</td>\n",
       "      <td>left_only</td>\n",
       "    </tr>\n",
       "  </tbody>\n",
       "</table>\n",
       "</div>"
      ],
      "text/plain": [
       "  product_code  product_line product_line_dim     _merge\n",
       "0     S10_1678   Motorcycles              NaN  left_only\n",
       "1     S10_1949  Classic Cars              NaN  left_only\n",
       "2     S10_2016   Motorcycles              NaN  left_only\n",
       "3     S10_4698   Motorcycles              NaN  left_only\n",
       "4     S10_4757  Classic Cars              NaN  left_only"
      ]
     },
     "execution_count": 15,
     "metadata": {},
     "output_type": "execute_result"
    }
   ],
   "source": [
    "# Filter records that are only in staging but not in DimProduct\n",
    "new_product_records_df = merged_product_df[merged_product_df['_merge']== 'left_only']\n",
    "new_product_records_df.head()"
   ]
  },
  {
   "cell_type": "code",
   "execution_count": 16,
   "id": "3cb2c59c-04a2-4428-a6f2-8d2acd57f65b",
   "metadata": {},
   "outputs": [
    {
     "data": {
      "text/html": [
       "<div>\n",
       "<style scoped>\n",
       "    .dataframe tbody tr th:only-of-type {\n",
       "        vertical-align: middle;\n",
       "    }\n",
       "\n",
       "    .dataframe tbody tr th {\n",
       "        vertical-align: top;\n",
       "    }\n",
       "\n",
       "    .dataframe thead th {\n",
       "        text-align: right;\n",
       "    }\n",
       "</style>\n",
       "<table border=\"1\" class=\"dataframe\">\n",
       "  <thead>\n",
       "    <tr style=\"text-align: right;\">\n",
       "      <th></th>\n",
       "      <th>product_code</th>\n",
       "      <th>product_line</th>\n",
       "    </tr>\n",
       "  </thead>\n",
       "  <tbody>\n",
       "    <tr>\n",
       "      <th>0</th>\n",
       "      <td>S10_1678</td>\n",
       "      <td>Motorcycles</td>\n",
       "    </tr>\n",
       "    <tr>\n",
       "      <th>1</th>\n",
       "      <td>S10_1949</td>\n",
       "      <td>Classic Cars</td>\n",
       "    </tr>\n",
       "    <tr>\n",
       "      <th>2</th>\n",
       "      <td>S10_2016</td>\n",
       "      <td>Motorcycles</td>\n",
       "    </tr>\n",
       "    <tr>\n",
       "      <th>3</th>\n",
       "      <td>S10_4698</td>\n",
       "      <td>Motorcycles</td>\n",
       "    </tr>\n",
       "    <tr>\n",
       "      <th>4</th>\n",
       "      <td>S10_4757</td>\n",
       "      <td>Classic Cars</td>\n",
       "    </tr>\n",
       "  </tbody>\n",
       "</table>\n",
       "</div>"
      ],
      "text/plain": [
       "  product_code  product_line\n",
       "0     S10_1678   Motorcycles\n",
       "1     S10_1949  Classic Cars\n",
       "2     S10_2016   Motorcycles\n",
       "3     S10_4698   Motorcycles\n",
       "4     S10_4757  Classic Cars"
      ]
     },
     "execution_count": 16,
     "metadata": {},
     "output_type": "execute_result"
    }
   ],
   "source": [
    "# drop columns from DimProduct and keep only staging data\n",
    "new_product_records_df= new_product_records_df[stg_product_df.columns]\n",
    "new_product_records_df.head()"
   ]
  },
  {
   "cell_type": "markdown",
   "id": "850388b1-e06e-4b74-83e8-290d76a7b5be",
   "metadata": {},
   "source": [
    "##### 3) Insert new records into DimProduct  MS Server SQL Table "
   ]
  },
  {
   "cell_type": "code",
   "execution_count": 17,
   "id": "1bda51ee-f60b-42f1-b5ea-5377490299f4",
   "metadata": {},
   "outputs": [
    {
     "name": "stdout",
     "output_type": "stream",
     "text": [
      "109\n"
     ]
    }
   ],
   "source": [
    "# insert new records to the target table\n",
    "total_inserted_product_records = new_product_records_df.to_sql('DimProduct', con = engine, if_exists = 'append', index = False)\n",
    "print(total_inserted_product_records)"
   ]
  },
  {
   "cell_type": "code",
   "execution_count": null,
   "id": "ed45112a-fd8b-4694-b330-bcdfbf9be842",
   "metadata": {},
   "outputs": [],
   "source": []
  }
 ],
 "metadata": {
  "kernelspec": {
   "display_name": "Python [conda env:base] *",
   "language": "python",
   "name": "conda-base-py"
  },
  "language_info": {
   "codemirror_mode": {
    "name": "ipython",
    "version": 3
   },
   "file_extension": ".py",
   "mimetype": "text/x-python",
   "name": "python",
   "nbconvert_exporter": "python",
   "pygments_lexer": "ipython3",
   "version": "3.13.5"
  }
 },
 "nbformat": 4,
 "nbformat_minor": 5
}
