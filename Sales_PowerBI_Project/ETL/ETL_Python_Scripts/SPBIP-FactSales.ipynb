{
 "cells": [
  {
   "cell_type": "code",
   "execution_count": 1,
   "id": "ddb2c12c-2f5d-4316-98ff-693673e983eb",
   "metadata": {},
   "outputs": [],
   "source": [
    "import pandas as pd \n",
    "import pyodbc "
   ]
  },
  {
   "cell_type": "markdown",
   "id": "0d0b9e46-b105-43d4-92f3-c7fa53586e47",
   "metadata": {},
   "source": [
    "### Load sales fact data to FactSales table"
   ]
  },
  {
   "cell_type": "markdown",
   "id": "44abc37f-6f7e-4565-bce3-8f70bab050b4",
   "metadata": {},
   "source": [
    "#### Create a connection to SQL Srever "
   ]
  },
  {
   "cell_type": "code",
   "execution_count": 2,
   "id": "332d2f25-7828-424a-99ad-fa08cbb80cdb",
   "metadata": {},
   "outputs": [],
   "source": [
    "server = 'DB_SERVER'\n",
    "database = 'DB_NAME'\n",
    "#username = ''\n",
    "#password = '\n",
    "# create connection string\n",
    "conn = pyodbc.connect(\n",
    "    \"Driver={ODBC Driver 17 for SQL Server};\"\n",
    "    \"Server=DB_SERVER;\"\n",
    "    \"Database=DB_NAME;\"\n",
    "    \"Trusted_Connection=yes;\" \n",
    ")"
   ]
  },
  {
   "cell_type": "code",
   "execution_count": 3,
   "id": "45998f71-4b03-444c-b773-9d0196e474d3",
   "metadata": {},
   "outputs": [],
   "source": [
    "cursor = conn.cursor()"
   ]
  },
  {
   "cell_type": "markdown",
   "id": "a1f7f587-d973-4aef-9ae0-0688d7a7558f",
   "metadata": {},
   "source": [
    "#### Populate FactSales table from the staging table"
   ]
  },
  {
   "cell_type": "markdown",
   "id": "5158de88-881c-4c99-9f77-bc30c2471be8",
   "metadata": {},
   "source": [
    "##### Load data incrementaly "
   ]
  },
  {
   "cell_type": "code",
   "execution_count": 5,
   "id": "5fe5ff6a-6c58-47b4-bedd-a86eb452c34f",
   "metadata": {},
   "outputs": [
    {
     "name": "stdout",
     "output_type": "stream",
     "text": [
      "FactSales table successfully populated\n"
     ]
    }
   ],
   "source": [
    "# Sql query to insert data to the FactSales table from the fact staging table\n",
    "sql_load_fact_sales = '''\n",
    "INSERT INTO FactSales(order_number\n",
    "      ,order_line_number\n",
    "      ,product_code\n",
    "      ,date_id\n",
    "      ,customer_id\n",
    "      ,quantity\n",
    "      ,unit_price\n",
    "      ,sales\n",
    "      )\n",
    "      SELECT s.order_number\n",
    "      ,s.order_line_number\n",
    "      ,p.product_code\n",
    "      ,d.date_id\n",
    "      ,c.customer_id\n",
    "      ,s.quantity\n",
    "      ,s.unit_price\n",
    "      ,s.sales\n",
    "      FROM stg_sales s\n",
    "      INNER JOIN DimDate d\n",
    "      on s.date_id = d.date_id\n",
    "      INNER JOIN DimProduct p\n",
    "      on trim(s.product_code) = trim(p.product_code)\n",
    "      INNER JOIN DimCustomer c\n",
    "      on trim(s.customer_name) = trim(c.customer_name)\n",
    "      and trim(s.contact_lastname) = trim (c.contact_lastname)\n",
    "      and trim(s.contact_firstname) = trim (c.contact_firstname)\n",
    "      and trim(s.country) = trim(c.country)\n",
    "      and trim(s.deal_size) = trim(c.deal_size)\n",
    "      LEFT JOIN FactSales f                     --- check for exising records\n",
    "      on s.order_number = f.order_number\n",
    "      and s.order_line_number = f.order_line_number\n",
    "      WHERE f.order_number is Null          ---- insert new records\n",
    "'''\n",
    "cursor.execute(sql_load_fact_sales)\n",
    "conn.commit()\n",
    "print(\"FactSales table successfully populated\")"
   ]
  },
  {
   "cell_type": "code",
   "execution_count": null,
   "id": "44af52d5-dbed-427e-9bed-f12e91c79290",
   "metadata": {},
   "outputs": [],
   "source": []
  }
 ],
 "metadata": {
  "kernelspec": {
   "display_name": "Python [conda env:base] *",
   "language": "python",
   "name": "conda-base-py"
  },
  "language_info": {
   "codemirror_mode": {
    "name": "ipython",
    "version": 3
   },
   "file_extension": ".py",
   "mimetype": "text/x-python",
   "name": "python",
   "nbconvert_exporter": "python",
   "pygments_lexer": "ipython3",
   "version": "3.13.5"
  }
 },
 "nbformat": 4,
 "nbformat_minor": 5
}
